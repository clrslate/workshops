{
 "cells": [
  {
   "cell_type": "markdown",
   "metadata": {},
   "source": [
    "## Certificate manager for localhost https"
   ]
  },
  {
   "cell_type": "code",
   "execution_count": null,
   "metadata": {
    "dotnet_interactive": {
     "language": "pwsh"
    },
    "polyglot_notebook": {
     "kernelName": "pwsh"
    },
    "vscode": {
     "languageId": "polyglot-notebook"
    }
   },
   "outputs": [],
   "source": [
    "# cert-manager setup\n",
    "# install cert manager using helm charts\n",
    "helm upgrade --install cert-manager jetstack/cert-manager --namespace cert-manager --create-namespace --version v1.12.0 --set installCRDs=true\n",
    "\n",
    "# create a self signed cetificate issuer\n",
    "kubectl apply -f .\\cert-manager\\self-signed-ca.yaml"
   ]
  },
  {
   "cell_type": "markdown",
   "metadata": {},
   "source": [
    "## Istio Setup"
   ]
  },
  {
   "cell_type": "code",
   "execution_count": null,
   "metadata": {
    "dotnet_interactive": {
     "language": "pwsh"
    },
    "polyglot_notebook": {
     "kernelName": "pwsh"
    },
    "vscode": {
     "languageId": "polyglot-notebook"
    }
   },
   "outputs": [],
   "source": [
    "# install istio using cli\n",
    "istioctl install -f .\\istio\\IstioOperator.yml -y\n",
    "\n",
    "# setup istio\n",
    "kubectl apply -k .\\istio\\istio-tools\\"
   ]
  },
  {
   "cell_type": "markdown",
   "metadata": {},
   "source": [
    "## Host file setup\n",
    "\n",
    "Execute following commands to enable following host entries\n",
    "\n",
    "* https://kiali.clrslate.local\n",
    "* https://grafana.clrslate.local\n",
    "* https://prometheus.clrslate.local\n",
    "* https://jaeger.clrslate.local"
   ]
  },
  {
   "cell_type": "code",
   "execution_count": 1,
   "metadata": {
    "dotnet_interactive": {
     "language": "pwsh"
    },
    "polyglot_notebook": {
     "kernelName": "pwsh"
    },
    "vscode": {
     "languageId": "polyglot-notebook"
    }
   },
   "outputs": [],
   "source": [
    "$baseDomain = 'clrslate.local'\n",
    "$subDomains = 'kiali','grafana','prometheus','jaeger','nginx'\n",
    "\n",
    "$externalIp = '127.0.0.1'"
   ]
  },
  {
   "cell_type": "code",
   "execution_count": 2,
   "metadata": {
    "dotnet_interactive": {
     "language": "pwsh"
    },
    "polyglot_notebook": {
     "kernelName": "pwsh"
    },
    "vscode": {
     "languageId": "polyglot-notebook"
    }
   },
   "outputs": [],
   "source": [
    "$hostsPath = \"$env:windir\\System32\\drivers\\etc\\hosts\"\n",
    "$hosts = get-content $hostsPath\n",
    "$newLines = @()\n",
    "\n",
    "foreach($line in $hosts){\n",
    "  if($line -notmatch $baseDomain){\n",
    "    $newLines += $line\n",
    "  }\n",
    "}\n",
    "\n",
    "foreach($subDomain in $subDomains){\n",
    "  $newLines += \"$externalIp`t$subDomain.$baseDomain\"\n",
    "}\n",
    "\n",
    "Set-Content -Path $hostsPath -Value $newLines -Force"
   ]
  },
  {
   "cell_type": "markdown",
   "metadata": {},
   "source": [
    "## One time setup"
   ]
  },
  {
   "cell_type": "code",
   "execution_count": null,
   "metadata": {
    "dotnet_interactive": {
     "language": "pwsh"
    },
    "polyglot_notebook": {
     "kernelName": "pwsh"
    },
    "vscode": {
     "languageId": "polyglot-notebook"
    }
   },
   "outputs": [],
   "source": [
    "# install tooling\n",
    "choco install kubernetes-cli -y\n",
    "choco install istioctl -y\n",
    "choco install lens -y"
   ]
  },
  {
   "cell_type": "code",
   "execution_count": null,
   "metadata": {
    "dotnet_interactive": {
     "language": "pwsh"
    },
    "polyglot_notebook": {
     "kernelName": "pwsh"
    },
    "vscode": {
     "languageId": "polyglot-notebook"
    }
   },
   "outputs": [],
   "source": [
    "# add helm repositories\n",
    "helm repo add jetstack https://charts.jetstack.io\n",
    "\n",
    "helm repo update"
   ]
  }
 ],
 "metadata": {
  "language_info": {
   "name": "python"
  },
  "orig_nbformat": 4
 },
 "nbformat": 4,
 "nbformat_minor": 2
}
